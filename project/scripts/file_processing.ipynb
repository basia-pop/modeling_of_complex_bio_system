{
  "nbformat": 4,
  "nbformat_minor": 0,
  "metadata": {
    "colab": {
      "provenance": []
    },
    "kernelspec": {
      "name": "python3",
      "display_name": "Python 3"
    },
    "language_info": {
      "name": "python"
    }
  },
  "cells": [
    {
      "cell_type": "code",
      "source": [
        "import pandas as pd\n",
        "\n",
        "soft_file = \"/content/drive/MyDrive/Bioinformatyka/modelowanie/projekt_new/GSE25066_series_matrix.txt\"\n",
        "\n",
        "with open(soft_file, encoding='utf-8') as f:\n",
        "    lines = f.readlines()\n",
        "\n",
        "#file parts\n",
        "meta_lines = []\n",
        "expr_lines = []\n",
        "in_expr = False\n",
        "\n",
        "for line in lines:\n",
        "    line = line.strip()\n",
        "    if line.startswith(\"!series_matrix_table_begin\"):\n",
        "        in_expr = True\n",
        "        continue\n",
        "    elif line.startswith(\"!series_matrix_table_end\"):\n",
        "        in_expr = False\n",
        "        continue\n",
        "    elif line.startswith(\"!Sample_\") and not in_expr:\n",
        "        meta_lines.append(line)\n",
        "    elif in_expr:\n",
        "        expr_lines.append(line)\n",
        "\n",
        "#metadata\n",
        "meta_dict = {}\n",
        "for line in meta_lines:\n",
        "    parts = line.split(None, 1)\n",
        "    if len(parts) == 2:\n",
        "        col_name = parts[0].replace('!Sample_', '')\n",
        "        values = parts[1].split('\\t') if '\\t' in parts[1] else parts[1].split()\n",
        "        values = [v.strip('\"') for v in values]\n",
        "        meta_dict[col_name] = values\n",
        "\n",
        "metadata_df = pd.DataFrame(meta_dict)\n",
        "\n",
        "#expresion\n",
        "from io import StringIO\n",
        "expr_text = '\\n'.join(expr_lines)\n",
        "expression_df = pd.read_csv(StringIO(expr_text), sep='\\t')\n",
        "\n",
        "expr_df_t = expression_df.set_index('ID_REF').T\n",
        "expr_df_t.index.name = 'geo_accession'\n",
        "expr_df_t.reset_index(inplace=True)\n",
        "\n",
        "if 'geo_accession' in metadata_df.columns:\n",
        "    metadata_df['geo_accession'] = metadata_df['geo_accession'].str.strip()\n",
        "    full_df = pd.merge(metadata_df, expr_df_t, on='geo_accession', how='inner')\n",
        "else:\n",
        "    full_df = metadata_df.copy()\n",
        "\n",
        "#saving\n",
        "metadata_df.to_csv(\"sample_metadata.csv\", index=False)\n",
        "expression_df.to_csv(\"expression_matrix.csv\", index=False)\n",
        "full_df.to_csv(\"combined_data.csv\", index=False)\n",
        "\n",
        "print(\"Saved:\")\n",
        "print(\"- sample_metadata.csv\")\n",
        "print(\"- expression_matrix.csv\")\n",
        "print(\"- combined_data.csv\")\n"
      ],
      "metadata": {
        "colab": {
          "base_uri": "https://localhost:8080/"
        },
        "id": "6WZl-5TKJaoK",
        "outputId": "157890a8-5eff-4c8d-e6bf-7cf65a031e8d"
      },
      "execution_count": 2,
      "outputs": [
        {
          "output_type": "stream",
          "name": "stdout",
          "text": [
            "Saved:\n",
            "- sample_metadata.csv\n",
            "- expression_matrix.csv\n",
            "- combined_data.csv\n"
          ]
        }
      ]
    },
    {
      "cell_type": "code",
      "source": [
        "from google.colab import drive\n",
        "drive.mount('/content/drive')\n"
      ],
      "metadata": {
        "colab": {
          "base_uri": "https://localhost:8080/"
        },
        "id": "_9VSLHmoKDhn",
        "outputId": "a516af34-469b-4a69-af49-1c3102212c8f"
      },
      "execution_count": 1,
      "outputs": [
        {
          "output_type": "stream",
          "name": "stdout",
          "text": [
            "Mounted at /content/drive\n"
          ]
        }
      ]
    }
  ]
}